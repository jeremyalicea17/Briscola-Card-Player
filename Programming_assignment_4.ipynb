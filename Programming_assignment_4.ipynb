{
 "cells": [
  {
   "cell_type": "markdown",
   "metadata": {},
   "source": [
    "<center> <h3>University of Puerto Rico</h3> </center>\n",
    "<center> <h3>Mayagüez Campus</h3> </center>\n",
    "<center> <h3>Mayagüez, Puerto Rico</h3> </center>\n",
    "\n",
    "<center> <h3>Department of Electrical and Computer Engineering</h3> </center>\n",
    "\n",
    "<center> <h3>Programming Assignment 4</h3> </center>\n",
    "\n",
    "<center> <h3>by</h3> </center>\n",
    "<center> <h3>Group M</h3> </center>\n",
    "\n",
    "<center> <h3>Diego F. Vasquez P.</h3> </center>\n",
    "<center> <h3>Jan A. Rivera R.</h3> </center>\n",
    "<center> <h3>Jeremy N. Alicea V.</h3> </center>\n",
    "\n",
    "\n",
    "<center> <h3>To: Professor Fernando Vega Riveros</h3> </center>\n",
    "<center> <h3>Course: ICOM 5015</h3> </center>\n",
    "<center> <h3>Date: April 25, 2024</h3> </center>\n"
   ]
  },
  {
   "cell_type": "markdown",
   "metadata": {},
   "source": [
    "---\n",
    "<center> <h3>Abstract</h3> </center>\n",
    "\n",
    "\n",
    "The following Assignment had our team implement the card game briscola into a simulation using any algorithm of our choosing. We chose the Monte Carlo algorithm fur to its flexibility and scalability and compared its performance to the Minmax algorithm with and without α – β pruning. After several simulations, the results showed that Monte Carlo was much more effective at providing accurate estimates of winning probabilities. Minmax seems to have suffered in this game due to the search space even with α – β pruning reducing the required memory. We concluded that although implementable, it is infeasible to use minmax for complicated games or simulations. \n"
   ]
  },
  {
   "cell_type": "markdown",
   "metadata": {},
   "source": [
    "---\n",
    "<center> <h3>Introduction</h3> </center>\n",
    "\n",
    "\n",
    "In the intricate field of game theory and algorithm development, choosing and implementing the right strategies is essential for effectively simulating and interpreting competitive environments. This report delivers an in-depth analysis of the Briscola card game, utilizing the Monte Carlo simulation method. We opted for the Monte Carlo technique over the conventional Minimax strategy, with or without α-β pruning, due to its effectiveness in handling the complexities and unpredictabilities of Briscola. Leveraging the Monte Carlo simulation, this project not only seeks to develop a capable game player but also to thoroughly evaluate its performance against established theoretical and algorithmic standards in game theory. The selected algorithms are closely examined for their complexity and practicality, ensuring they meet the computational demands and specific requirements of the game. This introduction precedes a detailed exploration of the theoretical foundations, practical implementation, and analytical assessment of game strategy algorithms, specifically designed to address the intricate aspects of Briscola"
   ]
  },
  {
   "cell_type": "markdown",
   "metadata": {},
   "source": [
    "---\n",
    "\n",
    "<center> <h3>Theory</h3> </center>\n",
    "\n",
    "\n",
    "Monte Carlo simulation to evaluate positions in games. It starts with an alpha-beta search algorithm and then plays thousands of games against itself, using random dice rolls. In the case of backgammon, the resulting win percentage serves as a good approximation of the position's value, even with an imperfect heuristic and limited search depth. This type of simulation is referred to as a \"rollout\" in dice games.\n",
    "\n",
    "\n",
    "The analysis for MIN and MAX nodes is unchanged, but we can also prune chance nodes, using a bit of ingenuity. \n",
    "The **Minmax** is a method used in decision theory and games to minimize the maximum possible loss (maximize the minimum gain). This algorithm explores the game tree up to a specific depth and evaluates the nodes using a heuristic function\n",
    "\n",
    "[1]"
   ]
  },
  {
   "cell_type": "markdown",
   "metadata": {},
   "source": [
    "---\n",
    "\n",
    "### Asignación de programación 4"
   ]
  },
  {
   "cell_type": "markdown",
   "metadata": {},
   "source": [
    "#### Facts and events\n",
    "\n",
    "For this project, we chose to implement a card game called Briscolas using the Monte Carlo algorithm. \n",
    "One must analyze your choice against Minimax with α-β pruning. For most games of interest, even Minimax with α-β pruning is infeasible, but in any case, you must perform an algorithm complexity analysis for the game you choose to justify your choice. You cannot use deep learning.\n",
    "\n",
    "---"
   ]
  },
  {
   "cell_type": "markdown",
   "metadata": {},
   "source": [
    "### Briscolas - States\n",
    "# Calculation of Game States\n",
    "\n",
    "## Card Distribution:\n",
    "- At the beginning, each player receives three cards and one card is revealed as trump. This leaves 36 cards in the deck.\n",
    "- The number of ways the cards can be dealt to two players is the number of combinations of choosing 3 cards from 40, multiplied by the number of combinations of choosing 3 cards from the remaining 37 (not counting the trump card).\n",
    "\n",
    "### Number of Combinations for the Initial Hand:\n",
    "$$\n",
    "\\binom{40}{3} \\times \\binom{37}{3}\n",
    "$$\n",
    "\n",
    "Where $\\binom{n}{k}$ is the binomial coefficient representing the number of ways to choose k elements from a set of n elements.\n",
    "\n",
    "## States During the Game:\n",
    "- As the game progresses, each card played and each card drawn from the deck changes the game state.\n",
    "- Each turn reduces the number of cards in the deck and potentially changes the player who has control of the game.\n",
    "\n",
    "## Additional States Due to Decisions:\n",
    "- In each turn, a player may have multiple options of cards to play, and each option may lead to a different game state.\n",
    "\n"
   ]
  },
  {
   "cell_type": "markdown",
   "metadata": {},
   "source": [
    "### Game Analysis for card game Briscola\n",
    "\n",
    "For the project of implementing card game Briscola, we are going to compare two popular algorithms for game theory: the **Monte Carlo** and the Minmax without **α-β pruning**. This analysis will help justify what algorithm is more adequate for this specific context.\n",
    "\n",
    "#### 1. **Monte Carlo Algorithm**\n",
    "The **Monte Carlo** method is a simulation technique that uses repeated random sampling to obtain numerical results and is commonly used to solve decision-making problems under uncertainty.\n",
    "\n",
    "**Application in Briscola:**\n",
    "- **Advantages**: \n",
    "  - Flexibility to handle uncertainty and the variability in the game due to the random nature of the card distribution.\n",
    "  - Scalable to different game settings and effective in situations where the state is large or unknown.\n",
    "- **Disadvantages**: \n",
    "  - Requires a large amount of simulations to obtain a precise estimation, which can turn computationally expensive.\n",
    "Complexity:\n",
    "- **Complexity**: \n",
    "  - It depends on the number of simulations (N) and not necessarily on the size of the state space, which can make it viable even when the state space is large\n",
    "\n",
    "#### 2. **Minimax Algorithm**\n",
    "The **Minmax** is a method used in decision theory and games to minimize the maximum possible loss (maximize the minimum gain). This algorithm explores the game tree up to a specific depth and evaluates the nodes using a heuristic function\n",
    "\n",
    "**Applications in Brsicolas:**\n",
    "- **Advantages**:\n",
    "  - It provides an optimal decision assuming that both plates play perfectly.\n",
    "- **Disadvanatges**:\n",
    "  - Highly dependent on the size of the tree of the game. In games with many decisions and possible states, the tree can grow exponentially.\n",
    "- **Complexity**:\n",
    "  - Worst case its ${{0{b^d}}}$, where  \\(b\\) is the ramification factor (average number of movement possibilities per position) and \\(d\\) is the depth of the tree.\n",
    "\n",
    "#### 3. **Minmax with α-β Pruning**\n",
    "The **α-β pruning** is an enhancement of Minmax that reduces the number of nodes evaluated in the search tree.\n",
    "\n",
    "**Applications in Briscolas:**\n",
    "- Advantages:\n",
    "- Reduce significantly the number of nodes evaluated, improving the execution time in comparison to pure Minimax.\n",
    "Disadvantages:\n",
    "- Although more efficient than pure Minmax, it still computationally demanding in games with a large state space and high uncertainty\n",
    "Complexity\n",
    "- In the best case, it can be as efficient as ${{0{b^{d/2}}}}$, but this is highly dependent on the implementation and the effectiveness of the heuristic functions\n",
    "### Justification for Algorithm Selection\n",
    "For a game like briscola, where the ramification factor and the number of states can be considerably high given the variability of the cards and the players’ decisions, the use of Monte Carlo appears to be more adequate given its flexibility and capacity to manage large space states without the need of an exhaustive analysis for every possible move. In addition, Monte Carlo allows better scalability and adaptation to the random nature of a card game, which is crucial when you cannot foresee your opponent's exact hand. \n",
    "\n",
    "Minimax, especially with a-β pruning could, theoretically, be effective for obtaining an optimal strategy, but its variability  is significantly reduced in games with a high number of states and movements, such as briscola. In addition, its implementation does not justify its computational cost given the benefits brought by Monte Carlo. \n",
    "\n",
    "This concludes the analysis  of the adequate algorithm to implement in our briscola game, taking into account the requirements and characteristics of said game."
   ]
  },
  {
   "cell_type": "markdown",
   "metadata": {},
   "source": [
    "Monte Carlo Implementation Design for Briscola:\n",
    "\n",
    "**Step 1:** Defining data structures\n",
    "\n",
    "Card: Each card will have a numerical value and a suit.\n",
    "Deck: A set of cards. Briscola is played with a Spanish deck of 40 cards.\n",
    "Player: Each player will have a hand of cards.\n",
    "Table: Where the cards played during the round are placed.\n",
    "\n",
    "**Step 2:** Main Functions\n",
    "\n",
    "Initialize Game: Prepare the deck, deal cards to the players and select the trump card.\n",
    "Game Simulation: Play several rounds until you run out of cards, using random decisions based on the current hand.\n",
    "Evaluate Hand: Determine the winner of each round based on the cards played and the trump card.\n",
    "Select Move: For a given game state, simulate multiple games and choose the move that most often results in a victory.\n",
    "\n",
    "**Step 3:** Monte Carlo Algorithm\n",
    "\n",
    "Perform multiple simulations for each possible play in a given game state.\n",
    "Record the results of these simulations (won or lost).\n",
    "Choose the play that has the highest success rate.\n",
    "\n",
    "\n",
    "\n",
    "[1]"
   ]
  },
  {
   "cell_type": "markdown",
   "metadata": {},
   "source": [
    "### Python Implementation:"
   ]
  },
  {
   "cell_type": "code",
   "execution_count": 1,
   "metadata": {},
   "outputs": [
    {
     "name": "stdout",
     "output_type": "stream",
     "text": [
      "Probability of winning if i play now: 0.724\n"
     ]
    }
   ],
   "source": [
    "import random\n",
    "\n",
    "# Definition of the data structures for cards and the deck.\n",
    "suits = ['Oros', 'Copas', 'Espadas', 'Bastos'] # Coins = \"Oros\", Cups = \"Copas\", Swords = \"Espadas\", Clubs = \"Bastos\".\n",
    "values = list(range(1, 8)) + list(range(10, 13))  # The 8 and 9 cards are not used in Briscola.\n",
    "\n",
    "class Card:\n",
    "    def __init__(self, suit, value):\n",
    "        self.suit = suit\n",
    "        self.value = value\n",
    "        self.points = self.set_points()\n",
    "\n",
    "    def __repr__(self):\n",
    "        return f\"{self.value} de {self.suit}\"\n",
    "\n",
    "    def set_points(self):\n",
    "        if self.value == 1:\n",
    "            return 11\n",
    "        elif self.value == 3:\n",
    "            return 10\n",
    "        elif self.value in [10, 11, 12]:\n",
    "            return {10: 2, 11: 3, 12: 4}[self.value]\n",
    "        else:\n",
    "            return 0\n",
    "\n",
    "class Deck:\n",
    "    def __init__(self):\n",
    "        self.cards = [Card(suit, value) for suit in suits for value in values]\n",
    "        random.shuffle(self.cards)\n",
    "\n",
    "    def draw(self):\n",
    "        return self.cards.pop() if self.cards else None\n",
    "\n",
    "# Definition of the class Player.\n",
    "class Player:\n",
    "    def __init__(self):\n",
    "        self.hand = []\n",
    "\n",
    "    def draw_hand(self, deck):\n",
    "        self.hand = [deck.draw() for _ in range(3)]\n",
    "\n",
    "    def play_card(self, index):\n",
    "        return self.hand.pop(index)\n",
    "\n",
    "# Function to determine the winner of the round.\n",
    "def determine_round_winner(played_cards, trump_suit):\n",
    "    winning_card = played_cards[0]\n",
    "    for card in played_cards[1:]:\n",
    "        if (card.suit == trump_suit and winning_card.suit != trump_suit) or \\\n",
    "           (card.suit == winning_card.suit and card.value > winning_card.value):\n",
    "            winning_card = card\n",
    "    return played_cards.index(winning_card)\n",
    "\n",
    "# Game simulation.\n",
    "def simulate_game(trump_card, players):\n",
    "    scores = [0, 0]\n",
    "    trump_suit = trump_card.suit\n",
    "    for _ in range(3):  # Each player plays 3 cards.\n",
    "        played_cards = [player.play_card(random.randint(0, len(player.hand) - 1)) for player in players]\n",
    "        winner = determine_round_winner(played_cards, trump_suit)\n",
    "        scores[winner] += 1\n",
    "    return scores.index(max(scores))\n",
    "\n",
    "# Implementation of Monte Carlo.\n",
    "def monte_carlo(player_index, players, deck, trials=1000):\n",
    "    wins = 0\n",
    "    original_hands = [player.hand[:] for player in players]\n",
    "    original_deck = deck.cards[:]\n",
    "    for _ in range(trials):\n",
    "        # Restore the game state\n",
    "        deck.cards = original_deck[:]\n",
    "        random.shuffle(deck.cards)\n",
    "        for player, hand in zip(players, original_hands):\n",
    "            player.hand = hand[:]\n",
    "        if simulate_game(deck.draw(), players) == player_index:\n",
    "            wins += 1\n",
    "    return wins / trials\n",
    "\n",
    "# Initialize the game.\n",
    "deck = Deck()\n",
    "players = [Player() for _ in range(2)]\n",
    "for player in players:\n",
    "    player.draw_hand(deck)\n",
    "\n",
    "# Example of the use of Monte Carlo to decide a play.\n",
    "player_index = 0  # Index of the player that is calculating the probability.\n",
    "print(\"Probability of winning if i play now:\", monte_carlo(player_index, players, deck))\n"
   ]
  },
  {
   "cell_type": "markdown",
   "metadata": {},
   "source": [
    "# Result\n",
    "* Probability of winning if I play now: 0.765\n",
    "* Probability of winning if I play now: 0.837\n",
    "* Probability of winning if I play now: 0.647\n",
    "* Probability of winning if I play now: 0.822\n",
    "* Probability of winning if I play now: 0.91"
   ]
  },
  {
   "cell_type": "markdown",
   "metadata": {},
   "source": [
    "### Plot of Results for Analysis"
   ]
  },
  {
   "cell_type": "code",
   "execution_count": 2,
   "metadata": {},
   "outputs": [
    {
     "data": {
      "application/vnd.plotly.v1+json": {
       "config": {
        "plotlyServerURL": "https://plot.ly"
       },
       "data": [
        {
         "marker": {
          "color": [
           0.765,
           0.837,
           0.647,
           0.822,
           0.91
          ],
          "coloraxis": "coloraxis"
         },
         "type": "bar",
         "x": [
          "Simulation 1",
          "Simulation 2",
          "Simulation 3",
          "Simulation 4",
          "Simulation 5"
         ],
         "y": [
          0.765,
          0.837,
          0.647,
          0.822,
          0.91
         ]
        }
       ],
       "layout": {
        "coloraxis": {
         "colorscale": [
          [
           0,
           "#440154"
          ],
          [
           0.1111111111111111,
           "#482878"
          ],
          [
           0.2222222222222222,
           "#3e4989"
          ],
          [
           0.3333333333333333,
           "#31688e"
          ],
          [
           0.4444444444444444,
           "#26828e"
          ],
          [
           0.5555555555555556,
           "#1f9e89"
          ],
          [
           0.6666666666666666,
           "#35b779"
          ],
          [
           0.7777777777777778,
           "#6ece58"
          ],
          [
           0.8888888888888888,
           "#b5de2b"
          ],
          [
           1,
           "#fde725"
          ]
         ]
        },
        "template": {
         "data": {
          "bar": [
           {
            "error_x": {
             "color": "#2a3f5f"
            },
            "error_y": {
             "color": "#2a3f5f"
            },
            "marker": {
             "line": {
              "color": "#E5ECF6",
              "width": 0.5
             },
             "pattern": {
              "fillmode": "overlay",
              "size": 10,
              "solidity": 0.2
             }
            },
            "type": "bar"
           }
          ],
          "barpolar": [
           {
            "marker": {
             "line": {
              "color": "#E5ECF6",
              "width": 0.5
             },
             "pattern": {
              "fillmode": "overlay",
              "size": 10,
              "solidity": 0.2
             }
            },
            "type": "barpolar"
           }
          ],
          "carpet": [
           {
            "aaxis": {
             "endlinecolor": "#2a3f5f",
             "gridcolor": "white",
             "linecolor": "white",
             "minorgridcolor": "white",
             "startlinecolor": "#2a3f5f"
            },
            "baxis": {
             "endlinecolor": "#2a3f5f",
             "gridcolor": "white",
             "linecolor": "white",
             "minorgridcolor": "white",
             "startlinecolor": "#2a3f5f"
            },
            "type": "carpet"
           }
          ],
          "choropleth": [
           {
            "colorbar": {
             "outlinewidth": 0,
             "ticks": ""
            },
            "type": "choropleth"
           }
          ],
          "contour": [
           {
            "colorbar": {
             "outlinewidth": 0,
             "ticks": ""
            },
            "colorscale": [
             [
              0,
              "#0d0887"
             ],
             [
              0.1111111111111111,
              "#46039f"
             ],
             [
              0.2222222222222222,
              "#7201a8"
             ],
             [
              0.3333333333333333,
              "#9c179e"
             ],
             [
              0.4444444444444444,
              "#bd3786"
             ],
             [
              0.5555555555555556,
              "#d8576b"
             ],
             [
              0.6666666666666666,
              "#ed7953"
             ],
             [
              0.7777777777777778,
              "#fb9f3a"
             ],
             [
              0.8888888888888888,
              "#fdca26"
             ],
             [
              1,
              "#f0f921"
             ]
            ],
            "type": "contour"
           }
          ],
          "contourcarpet": [
           {
            "colorbar": {
             "outlinewidth": 0,
             "ticks": ""
            },
            "type": "contourcarpet"
           }
          ],
          "heatmap": [
           {
            "colorbar": {
             "outlinewidth": 0,
             "ticks": ""
            },
            "colorscale": [
             [
              0,
              "#0d0887"
             ],
             [
              0.1111111111111111,
              "#46039f"
             ],
             [
              0.2222222222222222,
              "#7201a8"
             ],
             [
              0.3333333333333333,
              "#9c179e"
             ],
             [
              0.4444444444444444,
              "#bd3786"
             ],
             [
              0.5555555555555556,
              "#d8576b"
             ],
             [
              0.6666666666666666,
              "#ed7953"
             ],
             [
              0.7777777777777778,
              "#fb9f3a"
             ],
             [
              0.8888888888888888,
              "#fdca26"
             ],
             [
              1,
              "#f0f921"
             ]
            ],
            "type": "heatmap"
           }
          ],
          "heatmapgl": [
           {
            "colorbar": {
             "outlinewidth": 0,
             "ticks": ""
            },
            "colorscale": [
             [
              0,
              "#0d0887"
             ],
             [
              0.1111111111111111,
              "#46039f"
             ],
             [
              0.2222222222222222,
              "#7201a8"
             ],
             [
              0.3333333333333333,
              "#9c179e"
             ],
             [
              0.4444444444444444,
              "#bd3786"
             ],
             [
              0.5555555555555556,
              "#d8576b"
             ],
             [
              0.6666666666666666,
              "#ed7953"
             ],
             [
              0.7777777777777778,
              "#fb9f3a"
             ],
             [
              0.8888888888888888,
              "#fdca26"
             ],
             [
              1,
              "#f0f921"
             ]
            ],
            "type": "heatmapgl"
           }
          ],
          "histogram": [
           {
            "marker": {
             "pattern": {
              "fillmode": "overlay",
              "size": 10,
              "solidity": 0.2
             }
            },
            "type": "histogram"
           }
          ],
          "histogram2d": [
           {
            "colorbar": {
             "outlinewidth": 0,
             "ticks": ""
            },
            "colorscale": [
             [
              0,
              "#0d0887"
             ],
             [
              0.1111111111111111,
              "#46039f"
             ],
             [
              0.2222222222222222,
              "#7201a8"
             ],
             [
              0.3333333333333333,
              "#9c179e"
             ],
             [
              0.4444444444444444,
              "#bd3786"
             ],
             [
              0.5555555555555556,
              "#d8576b"
             ],
             [
              0.6666666666666666,
              "#ed7953"
             ],
             [
              0.7777777777777778,
              "#fb9f3a"
             ],
             [
              0.8888888888888888,
              "#fdca26"
             ],
             [
              1,
              "#f0f921"
             ]
            ],
            "type": "histogram2d"
           }
          ],
          "histogram2dcontour": [
           {
            "colorbar": {
             "outlinewidth": 0,
             "ticks": ""
            },
            "colorscale": [
             [
              0,
              "#0d0887"
             ],
             [
              0.1111111111111111,
              "#46039f"
             ],
             [
              0.2222222222222222,
              "#7201a8"
             ],
             [
              0.3333333333333333,
              "#9c179e"
             ],
             [
              0.4444444444444444,
              "#bd3786"
             ],
             [
              0.5555555555555556,
              "#d8576b"
             ],
             [
              0.6666666666666666,
              "#ed7953"
             ],
             [
              0.7777777777777778,
              "#fb9f3a"
             ],
             [
              0.8888888888888888,
              "#fdca26"
             ],
             [
              1,
              "#f0f921"
             ]
            ],
            "type": "histogram2dcontour"
           }
          ],
          "mesh3d": [
           {
            "colorbar": {
             "outlinewidth": 0,
             "ticks": ""
            },
            "type": "mesh3d"
           }
          ],
          "parcoords": [
           {
            "line": {
             "colorbar": {
              "outlinewidth": 0,
              "ticks": ""
             }
            },
            "type": "parcoords"
           }
          ],
          "pie": [
           {
            "automargin": true,
            "type": "pie"
           }
          ],
          "scatter": [
           {
            "fillpattern": {
             "fillmode": "overlay",
             "size": 10,
             "solidity": 0.2
            },
            "type": "scatter"
           }
          ],
          "scatter3d": [
           {
            "line": {
             "colorbar": {
              "outlinewidth": 0,
              "ticks": ""
             }
            },
            "marker": {
             "colorbar": {
              "outlinewidth": 0,
              "ticks": ""
             }
            },
            "type": "scatter3d"
           }
          ],
          "scattercarpet": [
           {
            "marker": {
             "colorbar": {
              "outlinewidth": 0,
              "ticks": ""
             }
            },
            "type": "scattercarpet"
           }
          ],
          "scattergeo": [
           {
            "marker": {
             "colorbar": {
              "outlinewidth": 0,
              "ticks": ""
             }
            },
            "type": "scattergeo"
           }
          ],
          "scattergl": [
           {
            "marker": {
             "colorbar": {
              "outlinewidth": 0,
              "ticks": ""
             }
            },
            "type": "scattergl"
           }
          ],
          "scattermapbox": [
           {
            "marker": {
             "colorbar": {
              "outlinewidth": 0,
              "ticks": ""
             }
            },
            "type": "scattermapbox"
           }
          ],
          "scatterpolar": [
           {
            "marker": {
             "colorbar": {
              "outlinewidth": 0,
              "ticks": ""
             }
            },
            "type": "scatterpolar"
           }
          ],
          "scatterpolargl": [
           {
            "marker": {
             "colorbar": {
              "outlinewidth": 0,
              "ticks": ""
             }
            },
            "type": "scatterpolargl"
           }
          ],
          "scatterternary": [
           {
            "marker": {
             "colorbar": {
              "outlinewidth": 0,
              "ticks": ""
             }
            },
            "type": "scatterternary"
           }
          ],
          "surface": [
           {
            "colorbar": {
             "outlinewidth": 0,
             "ticks": ""
            },
            "colorscale": [
             [
              0,
              "#0d0887"
             ],
             [
              0.1111111111111111,
              "#46039f"
             ],
             [
              0.2222222222222222,
              "#7201a8"
             ],
             [
              0.3333333333333333,
              "#9c179e"
             ],
             [
              0.4444444444444444,
              "#bd3786"
             ],
             [
              0.5555555555555556,
              "#d8576b"
             ],
             [
              0.6666666666666666,
              "#ed7953"
             ],
             [
              0.7777777777777778,
              "#fb9f3a"
             ],
             [
              0.8888888888888888,
              "#fdca26"
             ],
             [
              1,
              "#f0f921"
             ]
            ],
            "type": "surface"
           }
          ],
          "table": [
           {
            "cells": {
             "fill": {
              "color": "#EBF0F8"
             },
             "line": {
              "color": "white"
             }
            },
            "header": {
             "fill": {
              "color": "#C8D4E3"
             },
             "line": {
              "color": "white"
             }
            },
            "type": "table"
           }
          ]
         },
         "layout": {
          "annotationdefaults": {
           "arrowcolor": "#2a3f5f",
           "arrowhead": 0,
           "arrowwidth": 1
          },
          "autotypenumbers": "strict",
          "coloraxis": {
           "colorbar": {
            "outlinewidth": 0,
            "ticks": ""
           }
          },
          "colorscale": {
           "diverging": [
            [
             0,
             "#8e0152"
            ],
            [
             0.1,
             "#c51b7d"
            ],
            [
             0.2,
             "#de77ae"
            ],
            [
             0.3,
             "#f1b6da"
            ],
            [
             0.4,
             "#fde0ef"
            ],
            [
             0.5,
             "#f7f7f7"
            ],
            [
             0.6,
             "#e6f5d0"
            ],
            [
             0.7,
             "#b8e186"
            ],
            [
             0.8,
             "#7fbc41"
            ],
            [
             0.9,
             "#4d9221"
            ],
            [
             1,
             "#276419"
            ]
           ],
           "sequential": [
            [
             0,
             "#0d0887"
            ],
            [
             0.1111111111111111,
             "#46039f"
            ],
            [
             0.2222222222222222,
             "#7201a8"
            ],
            [
             0.3333333333333333,
             "#9c179e"
            ],
            [
             0.4444444444444444,
             "#bd3786"
            ],
            [
             0.5555555555555556,
             "#d8576b"
            ],
            [
             0.6666666666666666,
             "#ed7953"
            ],
            [
             0.7777777777777778,
             "#fb9f3a"
            ],
            [
             0.8888888888888888,
             "#fdca26"
            ],
            [
             1,
             "#f0f921"
            ]
           ],
           "sequentialminus": [
            [
             0,
             "#0d0887"
            ],
            [
             0.1111111111111111,
             "#46039f"
            ],
            [
             0.2222222222222222,
             "#7201a8"
            ],
            [
             0.3333333333333333,
             "#9c179e"
            ],
            [
             0.4444444444444444,
             "#bd3786"
            ],
            [
             0.5555555555555556,
             "#d8576b"
            ],
            [
             0.6666666666666666,
             "#ed7953"
            ],
            [
             0.7777777777777778,
             "#fb9f3a"
            ],
            [
             0.8888888888888888,
             "#fdca26"
            ],
            [
             1,
             "#f0f921"
            ]
           ]
          },
          "colorway": [
           "#636efa",
           "#EF553B",
           "#00cc96",
           "#ab63fa",
           "#FFA15A",
           "#19d3f3",
           "#FF6692",
           "#B6E880",
           "#FF97FF",
           "#FECB52"
          ],
          "font": {
           "color": "#2a3f5f"
          },
          "geo": {
           "bgcolor": "white",
           "lakecolor": "white",
           "landcolor": "#E5ECF6",
           "showlakes": true,
           "showland": true,
           "subunitcolor": "white"
          },
          "hoverlabel": {
           "align": "left"
          },
          "hovermode": "closest",
          "mapbox": {
           "style": "light"
          },
          "paper_bgcolor": "white",
          "plot_bgcolor": "#E5ECF6",
          "polar": {
           "angularaxis": {
            "gridcolor": "white",
            "linecolor": "white",
            "ticks": ""
           },
           "bgcolor": "#E5ECF6",
           "radialaxis": {
            "gridcolor": "white",
            "linecolor": "white",
            "ticks": ""
           }
          },
          "scene": {
           "xaxis": {
            "backgroundcolor": "#E5ECF6",
            "gridcolor": "white",
            "gridwidth": 2,
            "linecolor": "white",
            "showbackground": true,
            "ticks": "",
            "zerolinecolor": "white"
           },
           "yaxis": {
            "backgroundcolor": "#E5ECF6",
            "gridcolor": "white",
            "gridwidth": 2,
            "linecolor": "white",
            "showbackground": true,
            "ticks": "",
            "zerolinecolor": "white"
           },
           "zaxis": {
            "backgroundcolor": "#E5ECF6",
            "gridcolor": "white",
            "gridwidth": 2,
            "linecolor": "white",
            "showbackground": true,
            "ticks": "",
            "zerolinecolor": "white"
           }
          },
          "shapedefaults": {
           "line": {
            "color": "#2a3f5f"
           }
          },
          "ternary": {
           "aaxis": {
            "gridcolor": "white",
            "linecolor": "white",
            "ticks": ""
           },
           "baxis": {
            "gridcolor": "white",
            "linecolor": "white",
            "ticks": ""
           },
           "bgcolor": "#E5ECF6",
           "caxis": {
            "gridcolor": "white",
            "linecolor": "white",
            "ticks": ""
           }
          },
          "title": {
           "x": 0.05
          },
          "xaxis": {
           "automargin": true,
           "gridcolor": "white",
           "linecolor": "white",
           "ticks": "",
           "title": {
            "standoff": 15
           },
           "zerolinecolor": "white",
           "zerolinewidth": 2
          },
          "yaxis": {
           "automargin": true,
           "gridcolor": "white",
           "linecolor": "white",
           "ticks": "",
           "title": {
            "standoff": 15
           },
           "zerolinecolor": "white",
           "zerolinewidth": 2
          }
         }
        },
        "title": {
         "text": "Probability to win in Simulations Monte Carlo Briscola"
        },
        "xaxis": {
         "title": {
          "text": "Simulation"
         }
        },
        "yaxis": {
         "title": {
          "text": "Probability to Win"
         }
        }
       }
      }
     },
     "metadata": {},
     "output_type": "display_data"
    }
   ],
   "source": [
    "import plotly.graph_objects as go\n",
    "\n",
    "# Assuming these are the results of your Monte Carlo simulations\n",
    "probabilidades = [0.765, 0.837, 0.647, 0.822, 0.91]\n",
    "\n",
    "# Create the chart with Plotly\n",
    "fig = go.Figure(data=[\n",
    "    go.Bar(\n",
    "        x=[f'Simulation {i+1}' for i in range(len(probabilidades))],\n",
    "        y=probabilidades,\n",
    "        marker=dict(color=probabilidades, coloraxis=\"coloraxis\")\n",
    "    )\n",
    "])\n",
    "\n",
    "# Layout configuration\n",
    "fig.update_layout(\n",
    "    title=\"Probability to win in Simulations Monte Carlo Briscola\",\n",
    "    xaxis_title=\"Simulation\",\n",
    "    yaxis_title=\"Probability to Win\",\n",
    "    coloraxis=dict(colorscale='Viridis'),\n",
    ")\n",
    "\n",
    "# Show the graph\n",
    "fig.show()"
   ]
  },
  {
   "cell_type": "markdown",
   "metadata": {},
   "source": [
    "#### Analysis of results\n",
    "\n",
    "* Odds of winning:\n",
    "\n",
    "    Probabilities calculated with Monte Carlo are positive numbers between 0 and 1, representing the probability as a percentage. These values ​​indicate the estimated probability that the player will win if he plays at that time.\n",
    "    The probabilities obtained are consistently high, ranging between 0.647 and 0.91. This suggests that, according to the simulations carried out, the player has a high probability of winning in each case.\n",
    "\n",
    "* Stability:\n",
    "\n",
    "    The odds of winning are relatively stable across different iterations of Monte Carlo. Although there is variability due to the stochastic nature of the method, the probabilities remain consistently high.\n",
    "\n",
    "* Reliability:\n",
    "\n",
    "    The reliability of the calculated probabilities depends largely on the number of iterations used in the Monte Carlo method. The greater the number of iterations, the greater the precision and reliability of the probability estimates.\n",
    "\n",
    "* Efficiency:\n",
    "\n",
    "    Monte Carlo is an efficient method for estimating probabilities in complex games where it is not feasible to perform an exhaustive search as in Minimax. It allows you to make quick decisions based on a statistical analysis of multiple game simulations.\n",
    "\n"
   ]
  },
  {
   "cell_type": "markdown",
   "metadata": {},
   "source": [
    "---\n",
    "---\n",
    "### Simulate_game_with_minimax"
   ]
  },
  {
   "cell_type": "code",
   "execution_count": 3,
   "metadata": {},
   "outputs": [
    {
     "name": "stdout",
     "output_type": "stream",
     "text": [
      "Probability of winning with Minimax: 5\n"
     ]
    }
   ],
   "source": [
    "import copy\n",
    "import random\n",
    "\n",
    "\n",
    "# Definition of the data structures for cards and the deck.\n",
    "suits = ['Oros', 'Copas', 'Espadas', 'Bastos']  # Coins = \"Oros\", Cups = \"Copas\", Swords = \"Espadas\", Clubs = \"Bastos\".\n",
    "values = list(range(1, 8)) + list(range(10, 13))  # The 8 and 9 cards are not used in Briscola.\n",
    "\n",
    "\n",
    "class Card:\n",
    "    def __init__(self, suit, value):\n",
    "        self.suit = suit\n",
    "        self.value = value\n",
    "        self.points = self.set_points()\n",
    "\n",
    "    def __repr__(self):\n",
    "        return f\"{self.value} de {self.suit}\"\n",
    "\n",
    "    def set_points(self):\n",
    "        if self.value == 1:\n",
    "            return 11\n",
    "        elif self.value == 3:\n",
    "            return 10\n",
    "        elif self.value in [10, 11, 12]:\n",
    "            return {10: 2, 11: 3, 12: 4}[self.value]\n",
    "        else:\n",
    "            return 0\n",
    "\n",
    "\n",
    "class Deck:\n",
    "    def __init__(self):\n",
    "        self.cards = [Card(suit, value) for suit in suits for value in values]\n",
    "        random.shuffle(self.cards)\n",
    "\n",
    "    def draw(self):\n",
    "        return self.cards.pop() if self.cards else None\n",
    "\n",
    "    def clone(self):\n",
    "        new_deck = Deck()\n",
    "        new_deck.cards = self.cards[:]  # Superficial copy of the list of cards.\n",
    "        return new_deck\n",
    "\n",
    "\n",
    "# Definition of the class Player.\n",
    "class Player:\n",
    "    def __init__(self):\n",
    "        self.hand = []\n",
    "\n",
    "    def draw_hand(self, deck):\n",
    "        self.hand = [deck.draw() for _ in range(3)]\n",
    "\n",
    "    def play_card(self, index):\n",
    "        return self.hand.pop(index)\n",
    "\n",
    "    def clone(self):\n",
    "        new_player = Player()\n",
    "        new_player.hand = self.hand[:]  # Superficial copy of the list of the cards in the hand.\n",
    "        return new_player\n",
    "\n",
    "\n",
    "# Definition of the class GameState.\n",
    "class GameState:\n",
    "    def __init__(self, players, deck, trump_card, current_player_index):\n",
    "        self.players = players\n",
    "        self.deck = deck\n",
    "        self.trump_card = trump_card\n",
    "        self.current_player_index = current_player_index\n",
    "\n",
    "    def is_terminal(self):\n",
    "        # A terminal state in Bricola happens if there are no more cards to play.\n",
    "        return all(not player.hand for player in self.players)\n",
    "\n",
    "    def evaluate(self):\n",
    "        # The evaluation could be as simple as counting the points in the hand of the player.\n",
    "        return sum(card.points for card in self.players[0].hand) - sum(card.points for card in self.players[1].hand)\n",
    "\n",
    "    def get_children(self):\n",
    "        children = []\n",
    "        player = self.players[self.current_player_index].clone()\n",
    "        for card in player.hand:\n",
    "            new_players = copy.deepcopy(self.players)\n",
    "            new_deck = self.deck.clone()\n",
    "\n",
    "            new_player = new_players[self.current_player_index]\n",
    "            if card in new_player.hand:  # Verify if the card is in the hand before eliminating it.\n",
    "                new_player.hand.remove(card)\n",
    "                next_player_index = (self.current_player_index + 1) % len(self.players)\n",
    "                child_state = GameState(new_players, new_deck, self.trump_card, next_player_index)\n",
    "                children.append(child_state)\n",
    "\n",
    "        # If there are no valid movements available, add a state where the other player wins automatically.\n",
    "        if not children:\n",
    "            next_player_index = (self.current_player_index + 1) % len(self.players)\n",
    "            child_state = GameState(self.players, self.deck, self.trump_card, next_player_index)\n",
    "            children.append(child_state)\n",
    "\n",
    "        return children\n",
    "\n",
    "\n",
    "# Function Minimax with α-β pruning.\n",
    "def minimax(state, depth, alpha, beta, maximizing_player_index):\n",
    "    if depth == 0 or state.is_terminal():\n",
    "        return state.evaluate()\n",
    "\n",
    "    if maximizing_player_index == 0:\n",
    "        max_eval = float('-inf')\n",
    "        for child in state.get_children():\n",
    "            eval = minimax(child, depth - 1, alpha, beta, 1)\n",
    "            max_eval = max(max_eval, eval)\n",
    "            alpha = max(alpha, eval)\n",
    "            if beta <= alpha:\n",
    "                break\n",
    "        return max_eval\n",
    "    else:\n",
    "        min_eval = float('inf')\n",
    "        for child in state.get_children():\n",
    "            eval = minimax(child, depth - 1, alpha, beta, 0)\n",
    "            min_eval = min(min_eval, eval)\n",
    "            beta = min(beta, eval)\n",
    "            if beta <= alpha:\n",
    "                break\n",
    "        return min_eval\n",
    "\n",
    "\n",
    "# Execution of the Minimax simulation.\n",
    "def simulate_game_with_minimax(players, deck):\n",
    "    initial_state = GameState(players, deck, deck.draw(), 0)\n",
    "    best_value = minimax(initial_state, 3, float('-inf'), float('inf'), 0)\n",
    "    return best_value\n",
    "\n",
    "\n",
    "# Initialize game.\n",
    "deck = Deck()\n",
    "players = [Player() for _ in range(2)]\n",
    "for player in players:\n",
    "    player.draw_hand(deck)\n",
    "\n",
    "# Example of the use of Minimax to decide a play.\n",
    "player_index = 0  # Index of the player that is calculating probability.\n",
    "print(\"Probability of winning with Minimax:\", simulate_game_with_minimax(players, deck))\n"
   ]
  },
  {
   "cell_type": "markdown",
   "metadata": {},
   "source": [
    "# result\n",
    "\n",
    "* Probabilidad de ganar con Minimax: -11\n",
    "* Probabilidad de ganar con Minimax: -5\n",
    "* Probabilidad de ganar con Minimax: 7\n",
    "* Probabilidad de ganar con Minimax: -16\n",
    "* Probabilidad de ganar con Minimax: 2"
   ]
  },
  {
   "cell_type": "markdown",
   "metadata": {},
   "source": [
    "### Plot de resultados para su analisis"
   ]
  },
  {
   "cell_type": "code",
   "execution_count": 4,
   "metadata": {},
   "outputs": [
    {
     "data": {
      "application/vnd.plotly.v1+json": {
       "config": {
        "plotlyServerURL": "https://plot.ly"
       },
       "data": [
        {
         "type": "bar",
         "x": [
          1,
          2,
          3,
          4,
          5
         ],
         "y": [
          -11,
          -5,
          7,
          -16,
          2
         ]
        }
       ],
       "layout": {
        "template": {
         "data": {
          "bar": [
           {
            "error_x": {
             "color": "#2a3f5f"
            },
            "error_y": {
             "color": "#2a3f5f"
            },
            "marker": {
             "line": {
              "color": "#E5ECF6",
              "width": 0.5
             },
             "pattern": {
              "fillmode": "overlay",
              "size": 10,
              "solidity": 0.2
             }
            },
            "type": "bar"
           }
          ],
          "barpolar": [
           {
            "marker": {
             "line": {
              "color": "#E5ECF6",
              "width": 0.5
             },
             "pattern": {
              "fillmode": "overlay",
              "size": 10,
              "solidity": 0.2
             }
            },
            "type": "barpolar"
           }
          ],
          "carpet": [
           {
            "aaxis": {
             "endlinecolor": "#2a3f5f",
             "gridcolor": "white",
             "linecolor": "white",
             "minorgridcolor": "white",
             "startlinecolor": "#2a3f5f"
            },
            "baxis": {
             "endlinecolor": "#2a3f5f",
             "gridcolor": "white",
             "linecolor": "white",
             "minorgridcolor": "white",
             "startlinecolor": "#2a3f5f"
            },
            "type": "carpet"
           }
          ],
          "choropleth": [
           {
            "colorbar": {
             "outlinewidth": 0,
             "ticks": ""
            },
            "type": "choropleth"
           }
          ],
          "contour": [
           {
            "colorbar": {
             "outlinewidth": 0,
             "ticks": ""
            },
            "colorscale": [
             [
              0,
              "#0d0887"
             ],
             [
              0.1111111111111111,
              "#46039f"
             ],
             [
              0.2222222222222222,
              "#7201a8"
             ],
             [
              0.3333333333333333,
              "#9c179e"
             ],
             [
              0.4444444444444444,
              "#bd3786"
             ],
             [
              0.5555555555555556,
              "#d8576b"
             ],
             [
              0.6666666666666666,
              "#ed7953"
             ],
             [
              0.7777777777777778,
              "#fb9f3a"
             ],
             [
              0.8888888888888888,
              "#fdca26"
             ],
             [
              1,
              "#f0f921"
             ]
            ],
            "type": "contour"
           }
          ],
          "contourcarpet": [
           {
            "colorbar": {
             "outlinewidth": 0,
             "ticks": ""
            },
            "type": "contourcarpet"
           }
          ],
          "heatmap": [
           {
            "colorbar": {
             "outlinewidth": 0,
             "ticks": ""
            },
            "colorscale": [
             [
              0,
              "#0d0887"
             ],
             [
              0.1111111111111111,
              "#46039f"
             ],
             [
              0.2222222222222222,
              "#7201a8"
             ],
             [
              0.3333333333333333,
              "#9c179e"
             ],
             [
              0.4444444444444444,
              "#bd3786"
             ],
             [
              0.5555555555555556,
              "#d8576b"
             ],
             [
              0.6666666666666666,
              "#ed7953"
             ],
             [
              0.7777777777777778,
              "#fb9f3a"
             ],
             [
              0.8888888888888888,
              "#fdca26"
             ],
             [
              1,
              "#f0f921"
             ]
            ],
            "type": "heatmap"
           }
          ],
          "heatmapgl": [
           {
            "colorbar": {
             "outlinewidth": 0,
             "ticks": ""
            },
            "colorscale": [
             [
              0,
              "#0d0887"
             ],
             [
              0.1111111111111111,
              "#46039f"
             ],
             [
              0.2222222222222222,
              "#7201a8"
             ],
             [
              0.3333333333333333,
              "#9c179e"
             ],
             [
              0.4444444444444444,
              "#bd3786"
             ],
             [
              0.5555555555555556,
              "#d8576b"
             ],
             [
              0.6666666666666666,
              "#ed7953"
             ],
             [
              0.7777777777777778,
              "#fb9f3a"
             ],
             [
              0.8888888888888888,
              "#fdca26"
             ],
             [
              1,
              "#f0f921"
             ]
            ],
            "type": "heatmapgl"
           }
          ],
          "histogram": [
           {
            "marker": {
             "pattern": {
              "fillmode": "overlay",
              "size": 10,
              "solidity": 0.2
             }
            },
            "type": "histogram"
           }
          ],
          "histogram2d": [
           {
            "colorbar": {
             "outlinewidth": 0,
             "ticks": ""
            },
            "colorscale": [
             [
              0,
              "#0d0887"
             ],
             [
              0.1111111111111111,
              "#46039f"
             ],
             [
              0.2222222222222222,
              "#7201a8"
             ],
             [
              0.3333333333333333,
              "#9c179e"
             ],
             [
              0.4444444444444444,
              "#bd3786"
             ],
             [
              0.5555555555555556,
              "#d8576b"
             ],
             [
              0.6666666666666666,
              "#ed7953"
             ],
             [
              0.7777777777777778,
              "#fb9f3a"
             ],
             [
              0.8888888888888888,
              "#fdca26"
             ],
             [
              1,
              "#f0f921"
             ]
            ],
            "type": "histogram2d"
           }
          ],
          "histogram2dcontour": [
           {
            "colorbar": {
             "outlinewidth": 0,
             "ticks": ""
            },
            "colorscale": [
             [
              0,
              "#0d0887"
             ],
             [
              0.1111111111111111,
              "#46039f"
             ],
             [
              0.2222222222222222,
              "#7201a8"
             ],
             [
              0.3333333333333333,
              "#9c179e"
             ],
             [
              0.4444444444444444,
              "#bd3786"
             ],
             [
              0.5555555555555556,
              "#d8576b"
             ],
             [
              0.6666666666666666,
              "#ed7953"
             ],
             [
              0.7777777777777778,
              "#fb9f3a"
             ],
             [
              0.8888888888888888,
              "#fdca26"
             ],
             [
              1,
              "#f0f921"
             ]
            ],
            "type": "histogram2dcontour"
           }
          ],
          "mesh3d": [
           {
            "colorbar": {
             "outlinewidth": 0,
             "ticks": ""
            },
            "type": "mesh3d"
           }
          ],
          "parcoords": [
           {
            "line": {
             "colorbar": {
              "outlinewidth": 0,
              "ticks": ""
             }
            },
            "type": "parcoords"
           }
          ],
          "pie": [
           {
            "automargin": true,
            "type": "pie"
           }
          ],
          "scatter": [
           {
            "fillpattern": {
             "fillmode": "overlay",
             "size": 10,
             "solidity": 0.2
            },
            "type": "scatter"
           }
          ],
          "scatter3d": [
           {
            "line": {
             "colorbar": {
              "outlinewidth": 0,
              "ticks": ""
             }
            },
            "marker": {
             "colorbar": {
              "outlinewidth": 0,
              "ticks": ""
             }
            },
            "type": "scatter3d"
           }
          ],
          "scattercarpet": [
           {
            "marker": {
             "colorbar": {
              "outlinewidth": 0,
              "ticks": ""
             }
            },
            "type": "scattercarpet"
           }
          ],
          "scattergeo": [
           {
            "marker": {
             "colorbar": {
              "outlinewidth": 0,
              "ticks": ""
             }
            },
            "type": "scattergeo"
           }
          ],
          "scattergl": [
           {
            "marker": {
             "colorbar": {
              "outlinewidth": 0,
              "ticks": ""
             }
            },
            "type": "scattergl"
           }
          ],
          "scattermapbox": [
           {
            "marker": {
             "colorbar": {
              "outlinewidth": 0,
              "ticks": ""
             }
            },
            "type": "scattermapbox"
           }
          ],
          "scatterpolar": [
           {
            "marker": {
             "colorbar": {
              "outlinewidth": 0,
              "ticks": ""
             }
            },
            "type": "scatterpolar"
           }
          ],
          "scatterpolargl": [
           {
            "marker": {
             "colorbar": {
              "outlinewidth": 0,
              "ticks": ""
             }
            },
            "type": "scatterpolargl"
           }
          ],
          "scatterternary": [
           {
            "marker": {
             "colorbar": {
              "outlinewidth": 0,
              "ticks": ""
             }
            },
            "type": "scatterternary"
           }
          ],
          "surface": [
           {
            "colorbar": {
             "outlinewidth": 0,
             "ticks": ""
            },
            "colorscale": [
             [
              0,
              "#0d0887"
             ],
             [
              0.1111111111111111,
              "#46039f"
             ],
             [
              0.2222222222222222,
              "#7201a8"
             ],
             [
              0.3333333333333333,
              "#9c179e"
             ],
             [
              0.4444444444444444,
              "#bd3786"
             ],
             [
              0.5555555555555556,
              "#d8576b"
             ],
             [
              0.6666666666666666,
              "#ed7953"
             ],
             [
              0.7777777777777778,
              "#fb9f3a"
             ],
             [
              0.8888888888888888,
              "#fdca26"
             ],
             [
              1,
              "#f0f921"
             ]
            ],
            "type": "surface"
           }
          ],
          "table": [
           {
            "cells": {
             "fill": {
              "color": "#EBF0F8"
             },
             "line": {
              "color": "white"
             }
            },
            "header": {
             "fill": {
              "color": "#C8D4E3"
             },
             "line": {
              "color": "white"
             }
            },
            "type": "table"
           }
          ]
         },
         "layout": {
          "annotationdefaults": {
           "arrowcolor": "#2a3f5f",
           "arrowhead": 0,
           "arrowwidth": 1
          },
          "autotypenumbers": "strict",
          "coloraxis": {
           "colorbar": {
            "outlinewidth": 0,
            "ticks": ""
           }
          },
          "colorscale": {
           "diverging": [
            [
             0,
             "#8e0152"
            ],
            [
             0.1,
             "#c51b7d"
            ],
            [
             0.2,
             "#de77ae"
            ],
            [
             0.3,
             "#f1b6da"
            ],
            [
             0.4,
             "#fde0ef"
            ],
            [
             0.5,
             "#f7f7f7"
            ],
            [
             0.6,
             "#e6f5d0"
            ],
            [
             0.7,
             "#b8e186"
            ],
            [
             0.8,
             "#7fbc41"
            ],
            [
             0.9,
             "#4d9221"
            ],
            [
             1,
             "#276419"
            ]
           ],
           "sequential": [
            [
             0,
             "#0d0887"
            ],
            [
             0.1111111111111111,
             "#46039f"
            ],
            [
             0.2222222222222222,
             "#7201a8"
            ],
            [
             0.3333333333333333,
             "#9c179e"
            ],
            [
             0.4444444444444444,
             "#bd3786"
            ],
            [
             0.5555555555555556,
             "#d8576b"
            ],
            [
             0.6666666666666666,
             "#ed7953"
            ],
            [
             0.7777777777777778,
             "#fb9f3a"
            ],
            [
             0.8888888888888888,
             "#fdca26"
            ],
            [
             1,
             "#f0f921"
            ]
           ],
           "sequentialminus": [
            [
             0,
             "#0d0887"
            ],
            [
             0.1111111111111111,
             "#46039f"
            ],
            [
             0.2222222222222222,
             "#7201a8"
            ],
            [
             0.3333333333333333,
             "#9c179e"
            ],
            [
             0.4444444444444444,
             "#bd3786"
            ],
            [
             0.5555555555555556,
             "#d8576b"
            ],
            [
             0.6666666666666666,
             "#ed7953"
            ],
            [
             0.7777777777777778,
             "#fb9f3a"
            ],
            [
             0.8888888888888888,
             "#fdca26"
            ],
            [
             1,
             "#f0f921"
            ]
           ]
          },
          "colorway": [
           "#636efa",
           "#EF553B",
           "#00cc96",
           "#ab63fa",
           "#FFA15A",
           "#19d3f3",
           "#FF6692",
           "#B6E880",
           "#FF97FF",
           "#FECB52"
          ],
          "font": {
           "color": "#2a3f5f"
          },
          "geo": {
           "bgcolor": "white",
           "lakecolor": "white",
           "landcolor": "#E5ECF6",
           "showlakes": true,
           "showland": true,
           "subunitcolor": "white"
          },
          "hoverlabel": {
           "align": "left"
          },
          "hovermode": "closest",
          "mapbox": {
           "style": "light"
          },
          "paper_bgcolor": "white",
          "plot_bgcolor": "#E5ECF6",
          "polar": {
           "angularaxis": {
            "gridcolor": "white",
            "linecolor": "white",
            "ticks": ""
           },
           "bgcolor": "#E5ECF6",
           "radialaxis": {
            "gridcolor": "white",
            "linecolor": "white",
            "ticks": ""
           }
          },
          "scene": {
           "xaxis": {
            "backgroundcolor": "#E5ECF6",
            "gridcolor": "white",
            "gridwidth": 2,
            "linecolor": "white",
            "showbackground": true,
            "ticks": "",
            "zerolinecolor": "white"
           },
           "yaxis": {
            "backgroundcolor": "#E5ECF6",
            "gridcolor": "white",
            "gridwidth": 2,
            "linecolor": "white",
            "showbackground": true,
            "ticks": "",
            "zerolinecolor": "white"
           },
           "zaxis": {
            "backgroundcolor": "#E5ECF6",
            "gridcolor": "white",
            "gridwidth": 2,
            "linecolor": "white",
            "showbackground": true,
            "ticks": "",
            "zerolinecolor": "white"
           }
          },
          "shapedefaults": {
           "line": {
            "color": "#2a3f5f"
           }
          },
          "ternary": {
           "aaxis": {
            "gridcolor": "white",
            "linecolor": "white",
            "ticks": ""
           },
           "baxis": {
            "gridcolor": "white",
            "linecolor": "white",
            "ticks": ""
           },
           "bgcolor": "#E5ECF6",
           "caxis": {
            "gridcolor": "white",
            "linecolor": "white",
            "ticks": ""
           }
          },
          "title": {
           "x": 0.05
          },
          "xaxis": {
           "automargin": true,
           "gridcolor": "white",
           "linecolor": "white",
           "ticks": "",
           "title": {
            "standoff": 15
           },
           "zerolinecolor": "white",
           "zerolinewidth": 2
          },
          "yaxis": {
           "automargin": true,
           "gridcolor": "white",
           "linecolor": "white",
           "ticks": "",
           "title": {
            "standoff": 15
           },
           "zerolinecolor": "white",
           "zerolinewidth": 2
          }
         }
        },
        "title": {
         "text": "Probability to Win with Minimax"
        },
        "xaxis": {
         "ticktext": [
          "Game 1",
          "Game 2",
          "Game 3",
          "Game 4",
          "Game 5"
         ],
         "tickvals": [
          1,
          2,
          3,
          4,
          5
         ],
         "title": {
          "text": "Game"
         }
        },
        "yaxis": {
         "range": [
          -17,
          8
         ],
         "title": {
          "text": "Probability to Win"
         }
        }
       }
      }
     },
     "metadata": {},
     "output_type": "display_data"
    }
   ],
   "source": [
    "\n",
    "\n",
    "# Minimax winning odds results\n",
    "probabilidades = [-11, -5, 7, -16, 2]\n",
    "\n",
    "# Create the bar chart\n",
    "fig = go.Figure(data=[go.Bar(x=list(range(1, len(probabilidades)+1)), y=probabilidades)])\n",
    "\n",
    "# Customize the chart layout\n",
    "fig.update_layout(title='Probability to Win with Minimax',\n",
    "                  xaxis_title='Game',\n",
    "                  yaxis_title='Probability to Win',\n",
    "                  xaxis=dict(tickvals=list(range(1, len(probabilidades)+1)), ticktext=[f'Game {i+1}' for i in range(len(probabilidades))]),\n",
    "                  yaxis=dict(range=[min(probabilidades)-1, max(probabilidades)+1]))\n",
    "\n",
    "# Show the graph\n",
    "fig.show()\n"
   ]
  },
  {
   "cell_type": "markdown",
   "metadata": {},
   "source": [
    "## Result Analysis\n",
    "\n",
    "Minimax Complexity with α-β Pruning\n",
    "1. **Time Complexity:**\n",
    "   - Minimax without pruning has exponential time complexity relative to the maximum depth of the game tree.\n",
    "   - With α-β pruning, the time complexity is approximately $O(b^{m/2})$, where $b$ is the average branching factor and $m$ is the maximum depth of the tree.\n",
    "   - α-β pruning significantly reduces the number of nodes explored compared to Minimax without pruning, making it viable even for considerable depths.\n",
    "\n",
    "2. **Space Complexity:**\n",
    "   - The space complexity of Minimax with α-β pruning is approximately $O(b \\times m)$, where $b$ is the average branching factor and $m$ is the maximum depth of the tree.\n",
    "   - α-β pruning reduces the amount of memory required compared to Minimax without pruning, as it avoids storing irrelevant nodes.\n",
    "\n",
    "3. **Practical Considerations:**\n",
    "   - Minimax with α-β pruning is still infeasible for games with very high depths or extremely large branching factors.\n",
    "   - For complex games like chess, additional techniques such as selective move generation and heuristic evaluations are used to improve performance.\n",
    "   - For less complex games or games with limited computational resources, simpler approaches such as Monte Carlo search may be preferable.\n",
    "\n",
    "\n"
   ]
  },
  {
   "cell_type": "markdown",
   "metadata": {},
   "source": [
    "---\n",
    "---\n",
    "### Comparison with Both Chosen Methods"
   ]
  },
  {
   "cell_type": "code",
   "execution_count": 5,
   "metadata": {},
   "outputs": [
    {
     "data": {
      "application/vnd.plotly.v1+json": {
       "config": {
        "plotlyServerURL": "https://plot.ly"
       },
       "data": [
        {
         "marker": {
          "color": "blue"
         },
         "name": "Minimax",
         "type": "bar",
         "x": [
          1,
          2,
          3,
          4,
          5
         ],
         "y": [
          -11,
          -5,
          7,
          -16,
          2
         ]
        },
        {
         "marker": {
          "color": "orange"
         },
         "name": "Monte Carlo",
         "type": "bar",
         "x": [
          1,
          2,
          3,
          4,
          5
         ],
         "y": [
          76.5,
          83.7,
          64.7,
          82.2,
          91
         ]
        }
       ],
       "layout": {
        "template": {
         "data": {
          "bar": [
           {
            "error_x": {
             "color": "#2a3f5f"
            },
            "error_y": {
             "color": "#2a3f5f"
            },
            "marker": {
             "line": {
              "color": "#E5ECF6",
              "width": 0.5
             },
             "pattern": {
              "fillmode": "overlay",
              "size": 10,
              "solidity": 0.2
             }
            },
            "type": "bar"
           }
          ],
          "barpolar": [
           {
            "marker": {
             "line": {
              "color": "#E5ECF6",
              "width": 0.5
             },
             "pattern": {
              "fillmode": "overlay",
              "size": 10,
              "solidity": 0.2
             }
            },
            "type": "barpolar"
           }
          ],
          "carpet": [
           {
            "aaxis": {
             "endlinecolor": "#2a3f5f",
             "gridcolor": "white",
             "linecolor": "white",
             "minorgridcolor": "white",
             "startlinecolor": "#2a3f5f"
            },
            "baxis": {
             "endlinecolor": "#2a3f5f",
             "gridcolor": "white",
             "linecolor": "white",
             "minorgridcolor": "white",
             "startlinecolor": "#2a3f5f"
            },
            "type": "carpet"
           }
          ],
          "choropleth": [
           {
            "colorbar": {
             "outlinewidth": 0,
             "ticks": ""
            },
            "type": "choropleth"
           }
          ],
          "contour": [
           {
            "colorbar": {
             "outlinewidth": 0,
             "ticks": ""
            },
            "colorscale": [
             [
              0,
              "#0d0887"
             ],
             [
              0.1111111111111111,
              "#46039f"
             ],
             [
              0.2222222222222222,
              "#7201a8"
             ],
             [
              0.3333333333333333,
              "#9c179e"
             ],
             [
              0.4444444444444444,
              "#bd3786"
             ],
             [
              0.5555555555555556,
              "#d8576b"
             ],
             [
              0.6666666666666666,
              "#ed7953"
             ],
             [
              0.7777777777777778,
              "#fb9f3a"
             ],
             [
              0.8888888888888888,
              "#fdca26"
             ],
             [
              1,
              "#f0f921"
             ]
            ],
            "type": "contour"
           }
          ],
          "contourcarpet": [
           {
            "colorbar": {
             "outlinewidth": 0,
             "ticks": ""
            },
            "type": "contourcarpet"
           }
          ],
          "heatmap": [
           {
            "colorbar": {
             "outlinewidth": 0,
             "ticks": ""
            },
            "colorscale": [
             [
              0,
              "#0d0887"
             ],
             [
              0.1111111111111111,
              "#46039f"
             ],
             [
              0.2222222222222222,
              "#7201a8"
             ],
             [
              0.3333333333333333,
              "#9c179e"
             ],
             [
              0.4444444444444444,
              "#bd3786"
             ],
             [
              0.5555555555555556,
              "#d8576b"
             ],
             [
              0.6666666666666666,
              "#ed7953"
             ],
             [
              0.7777777777777778,
              "#fb9f3a"
             ],
             [
              0.8888888888888888,
              "#fdca26"
             ],
             [
              1,
              "#f0f921"
             ]
            ],
            "type": "heatmap"
           }
          ],
          "heatmapgl": [
           {
            "colorbar": {
             "outlinewidth": 0,
             "ticks": ""
            },
            "colorscale": [
             [
              0,
              "#0d0887"
             ],
             [
              0.1111111111111111,
              "#46039f"
             ],
             [
              0.2222222222222222,
              "#7201a8"
             ],
             [
              0.3333333333333333,
              "#9c179e"
             ],
             [
              0.4444444444444444,
              "#bd3786"
             ],
             [
              0.5555555555555556,
              "#d8576b"
             ],
             [
              0.6666666666666666,
              "#ed7953"
             ],
             [
              0.7777777777777778,
              "#fb9f3a"
             ],
             [
              0.8888888888888888,
              "#fdca26"
             ],
             [
              1,
              "#f0f921"
             ]
            ],
            "type": "heatmapgl"
           }
          ],
          "histogram": [
           {
            "marker": {
             "pattern": {
              "fillmode": "overlay",
              "size": 10,
              "solidity": 0.2
             }
            },
            "type": "histogram"
           }
          ],
          "histogram2d": [
           {
            "colorbar": {
             "outlinewidth": 0,
             "ticks": ""
            },
            "colorscale": [
             [
              0,
              "#0d0887"
             ],
             [
              0.1111111111111111,
              "#46039f"
             ],
             [
              0.2222222222222222,
              "#7201a8"
             ],
             [
              0.3333333333333333,
              "#9c179e"
             ],
             [
              0.4444444444444444,
              "#bd3786"
             ],
             [
              0.5555555555555556,
              "#d8576b"
             ],
             [
              0.6666666666666666,
              "#ed7953"
             ],
             [
              0.7777777777777778,
              "#fb9f3a"
             ],
             [
              0.8888888888888888,
              "#fdca26"
             ],
             [
              1,
              "#f0f921"
             ]
            ],
            "type": "histogram2d"
           }
          ],
          "histogram2dcontour": [
           {
            "colorbar": {
             "outlinewidth": 0,
             "ticks": ""
            },
            "colorscale": [
             [
              0,
              "#0d0887"
             ],
             [
              0.1111111111111111,
              "#46039f"
             ],
             [
              0.2222222222222222,
              "#7201a8"
             ],
             [
              0.3333333333333333,
              "#9c179e"
             ],
             [
              0.4444444444444444,
              "#bd3786"
             ],
             [
              0.5555555555555556,
              "#d8576b"
             ],
             [
              0.6666666666666666,
              "#ed7953"
             ],
             [
              0.7777777777777778,
              "#fb9f3a"
             ],
             [
              0.8888888888888888,
              "#fdca26"
             ],
             [
              1,
              "#f0f921"
             ]
            ],
            "type": "histogram2dcontour"
           }
          ],
          "mesh3d": [
           {
            "colorbar": {
             "outlinewidth": 0,
             "ticks": ""
            },
            "type": "mesh3d"
           }
          ],
          "parcoords": [
           {
            "line": {
             "colorbar": {
              "outlinewidth": 0,
              "ticks": ""
             }
            },
            "type": "parcoords"
           }
          ],
          "pie": [
           {
            "automargin": true,
            "type": "pie"
           }
          ],
          "scatter": [
           {
            "fillpattern": {
             "fillmode": "overlay",
             "size": 10,
             "solidity": 0.2
            },
            "type": "scatter"
           }
          ],
          "scatter3d": [
           {
            "line": {
             "colorbar": {
              "outlinewidth": 0,
              "ticks": ""
             }
            },
            "marker": {
             "colorbar": {
              "outlinewidth": 0,
              "ticks": ""
             }
            },
            "type": "scatter3d"
           }
          ],
          "scattercarpet": [
           {
            "marker": {
             "colorbar": {
              "outlinewidth": 0,
              "ticks": ""
             }
            },
            "type": "scattercarpet"
           }
          ],
          "scattergeo": [
           {
            "marker": {
             "colorbar": {
              "outlinewidth": 0,
              "ticks": ""
             }
            },
            "type": "scattergeo"
           }
          ],
          "scattergl": [
           {
            "marker": {
             "colorbar": {
              "outlinewidth": 0,
              "ticks": ""
             }
            },
            "type": "scattergl"
           }
          ],
          "scattermapbox": [
           {
            "marker": {
             "colorbar": {
              "outlinewidth": 0,
              "ticks": ""
             }
            },
            "type": "scattermapbox"
           }
          ],
          "scatterpolar": [
           {
            "marker": {
             "colorbar": {
              "outlinewidth": 0,
              "ticks": ""
             }
            },
            "type": "scatterpolar"
           }
          ],
          "scatterpolargl": [
           {
            "marker": {
             "colorbar": {
              "outlinewidth": 0,
              "ticks": ""
             }
            },
            "type": "scatterpolargl"
           }
          ],
          "scatterternary": [
           {
            "marker": {
             "colorbar": {
              "outlinewidth": 0,
              "ticks": ""
             }
            },
            "type": "scatterternary"
           }
          ],
          "surface": [
           {
            "colorbar": {
             "outlinewidth": 0,
             "ticks": ""
            },
            "colorscale": [
             [
              0,
              "#0d0887"
             ],
             [
              0.1111111111111111,
              "#46039f"
             ],
             [
              0.2222222222222222,
              "#7201a8"
             ],
             [
              0.3333333333333333,
              "#9c179e"
             ],
             [
              0.4444444444444444,
              "#bd3786"
             ],
             [
              0.5555555555555556,
              "#d8576b"
             ],
             [
              0.6666666666666666,
              "#ed7953"
             ],
             [
              0.7777777777777778,
              "#fb9f3a"
             ],
             [
              0.8888888888888888,
              "#fdca26"
             ],
             [
              1,
              "#f0f921"
             ]
            ],
            "type": "surface"
           }
          ],
          "table": [
           {
            "cells": {
             "fill": {
              "color": "#EBF0F8"
             },
             "line": {
              "color": "white"
             }
            },
            "header": {
             "fill": {
              "color": "#C8D4E3"
             },
             "line": {
              "color": "white"
             }
            },
            "type": "table"
           }
          ]
         },
         "layout": {
          "annotationdefaults": {
           "arrowcolor": "#2a3f5f",
           "arrowhead": 0,
           "arrowwidth": 1
          },
          "autotypenumbers": "strict",
          "coloraxis": {
           "colorbar": {
            "outlinewidth": 0,
            "ticks": ""
           }
          },
          "colorscale": {
           "diverging": [
            [
             0,
             "#8e0152"
            ],
            [
             0.1,
             "#c51b7d"
            ],
            [
             0.2,
             "#de77ae"
            ],
            [
             0.3,
             "#f1b6da"
            ],
            [
             0.4,
             "#fde0ef"
            ],
            [
             0.5,
             "#f7f7f7"
            ],
            [
             0.6,
             "#e6f5d0"
            ],
            [
             0.7,
             "#b8e186"
            ],
            [
             0.8,
             "#7fbc41"
            ],
            [
             0.9,
             "#4d9221"
            ],
            [
             1,
             "#276419"
            ]
           ],
           "sequential": [
            [
             0,
             "#0d0887"
            ],
            [
             0.1111111111111111,
             "#46039f"
            ],
            [
             0.2222222222222222,
             "#7201a8"
            ],
            [
             0.3333333333333333,
             "#9c179e"
            ],
            [
             0.4444444444444444,
             "#bd3786"
            ],
            [
             0.5555555555555556,
             "#d8576b"
            ],
            [
             0.6666666666666666,
             "#ed7953"
            ],
            [
             0.7777777777777778,
             "#fb9f3a"
            ],
            [
             0.8888888888888888,
             "#fdca26"
            ],
            [
             1,
             "#f0f921"
            ]
           ],
           "sequentialminus": [
            [
             0,
             "#0d0887"
            ],
            [
             0.1111111111111111,
             "#46039f"
            ],
            [
             0.2222222222222222,
             "#7201a8"
            ],
            [
             0.3333333333333333,
             "#9c179e"
            ],
            [
             0.4444444444444444,
             "#bd3786"
            ],
            [
             0.5555555555555556,
             "#d8576b"
            ],
            [
             0.6666666666666666,
             "#ed7953"
            ],
            [
             0.7777777777777778,
             "#fb9f3a"
            ],
            [
             0.8888888888888888,
             "#fdca26"
            ],
            [
             1,
             "#f0f921"
            ]
           ]
          },
          "colorway": [
           "#636efa",
           "#EF553B",
           "#00cc96",
           "#ab63fa",
           "#FFA15A",
           "#19d3f3",
           "#FF6692",
           "#B6E880",
           "#FF97FF",
           "#FECB52"
          ],
          "font": {
           "color": "#2a3f5f"
          },
          "geo": {
           "bgcolor": "white",
           "lakecolor": "white",
           "landcolor": "#E5ECF6",
           "showlakes": true,
           "showland": true,
           "subunitcolor": "white"
          },
          "hoverlabel": {
           "align": "left"
          },
          "hovermode": "closest",
          "mapbox": {
           "style": "light"
          },
          "paper_bgcolor": "white",
          "plot_bgcolor": "#E5ECF6",
          "polar": {
           "angularaxis": {
            "gridcolor": "white",
            "linecolor": "white",
            "ticks": ""
           },
           "bgcolor": "#E5ECF6",
           "radialaxis": {
            "gridcolor": "white",
            "linecolor": "white",
            "ticks": ""
           }
          },
          "scene": {
           "xaxis": {
            "backgroundcolor": "#E5ECF6",
            "gridcolor": "white",
            "gridwidth": 2,
            "linecolor": "white",
            "showbackground": true,
            "ticks": "",
            "zerolinecolor": "white"
           },
           "yaxis": {
            "backgroundcolor": "#E5ECF6",
            "gridcolor": "white",
            "gridwidth": 2,
            "linecolor": "white",
            "showbackground": true,
            "ticks": "",
            "zerolinecolor": "white"
           },
           "zaxis": {
            "backgroundcolor": "#E5ECF6",
            "gridcolor": "white",
            "gridwidth": 2,
            "linecolor": "white",
            "showbackground": true,
            "ticks": "",
            "zerolinecolor": "white"
           }
          },
          "shapedefaults": {
           "line": {
            "color": "#2a3f5f"
           }
          },
          "ternary": {
           "aaxis": {
            "gridcolor": "white",
            "linecolor": "white",
            "ticks": ""
           },
           "baxis": {
            "gridcolor": "white",
            "linecolor": "white",
            "ticks": ""
           },
           "bgcolor": "#E5ECF6",
           "caxis": {
            "gridcolor": "white",
            "linecolor": "white",
            "ticks": ""
           }
          },
          "title": {
           "x": 0.05
          },
          "xaxis": {
           "automargin": true,
           "gridcolor": "white",
           "linecolor": "white",
           "ticks": "",
           "title": {
            "standoff": 15
           },
           "zerolinecolor": "white",
           "zerolinewidth": 2
          },
          "yaxis": {
           "automargin": true,
           "gridcolor": "white",
           "linecolor": "white",
           "ticks": "",
           "title": {
            "standoff": 15
           },
           "zerolinecolor": "white",
           "zerolinewidth": 2
          }
         }
        },
        "title": {
         "text": "Win Probability Comparison"
        },
        "xaxis": {
         "ticktext": [
          "Game 1",
          "Game 2",
          "Game 3",
          "Game 4",
          "Game 5"
         ],
         "tickvals": [
          1,
          2,
          3,
          4,
          5
         ],
         "title": {
          "text": "Game"
         }
        },
        "yaxis": {
         "title": {
          "text": "Probability to Win"
         }
        }
       }
      }
     },
     "metadata": {},
     "output_type": "display_data"
    }
   ],
   "source": [
    "import plotly.graph_objects as go\n",
    "\n",
    "# Odds of winning with Minimax and Monte Carlo\n",
    "probabilidades_minimax = [-11, -5, 7, -16, 2]\n",
    "probabilidades_montecarlo = [76.5, 83.7, 64.7, 82.2, 91]\n",
    "\n",
    "# Create the bar chart\n",
    "fig = go.Figure()\n",
    "\n",
    "# Add Minimax data\n",
    "fig.add_trace(go.Bar(x=list(range(1, len(probabilidades_minimax)+1)), y=probabilidades_minimax,\n",
    "                     name='Minimax', marker_color='blue'))\n",
    "\n",
    "# Add the Monte Carlo data\n",
    "fig.add_trace(go.Bar(x=list(range(1, len(probabilidades_montecarlo)+1)), y=probabilidades_montecarlo,\n",
    "                     name='Monte Carlo', marker_color='orange'))\n",
    "\n",
    "# Customize the chart layout\n",
    "fig.update_layout(title='Win Probability Comparison',\n",
    "                  xaxis_title='Game',\n",
    "                  yaxis_title='Probability to Win',\n",
    "                  xaxis=dict(tickvals=list(range(1, len(probabilidades_minimax)+1)), \n",
    "                             ticktext=[f'Game {i+1}' for i in range(len(probabilidades_minimax))]))\n",
    "\n",
    "# Show the graph\n",
    "fig.show()"
   ]
  },
  {
   "cell_type": "markdown",
   "metadata": {},
   "source": [
    "### Result Analysis"
   ]
  },
  {
   "cell_type": "markdown",
   "metadata": {},
   "source": [
    "Accuracy of results: Monte Carlo provides more accurate estimates of winning probabilities, expressed as percentages. These estimates are based on simulating multiple games and show greater consistency in terms of performance.\n",
    "\n",
    "Differences in approach: Minimax is based on an exhaustive search of the game space, using a tree search strategy to explore all possible moves and find the best strategy. However, its performance may be limited by game complexity and search depth.\n",
    "\n",
    "Evaluation of effectiveness: Although Minimax can be effective in games with a manageable search space and precise evaluation of moves, in more complex games, such as the one presented here, the Monte Carlo approach may be more effective due to its ability to generate realistic estimates based on the simulation of multiple scenarios.\n",
    "\n",
    "In conclusion, the Monte Carlo method seems to be more suitable for calculating winning probabilities in complex games where exhaustive exploration of all possible moves is not feasible. On the other hand, Minimax may be more appropriate for games with a manageable search space and accurate play evaluation."
   ]
  },
  {
   "cell_type": "markdown",
   "metadata": {},
   "source": [
    "Odds of winning with Monte Carlo:\n",
    "\n",
    "Winning probabilities calculated with Monte Carlo are positive numbers between 0 and 1, representing the probability as a percentage. These values ​​indicate the estimated probability that the player will win if he plays at that time.\n",
    "The probabilities obtained are consistently high, ranging between 0.647 and 0.91. This suggests that, according to the simulations carried out, the player has a high probability of winning in each case.\n",
    "\n",
    "Odds of winning with Minimax:\n",
    "\n",
    "The odds of winning with Minimax are negative or low positive numbers, indicating a less favorable position evaluation for the player. These values ​​represent the position score in the search tree, with lower values ​​indicating a less favorable position.\n",
    "The probabilities vary more widely, with values ​​ranging from -16 to 7. This suggests that, based on Minimax analysis, positions may be less favorable in some cases and more favorable in others.\n",
    "\n",
    "Comparison:\n",
    "\n",
    "Monte Carlo winning probabilities are more intuitive and easier to interpret, as they directly represent the probability of success.\n",
    "On the other hand, Minimax probabilities are more difficult to interpret, since they represent a relative evaluation of the position in the search tree and not a direct probability of winning."
   ]
  },
  {
   "cell_type": "markdown",
   "metadata": {},
   "source": [
    "---\n",
    "\n",
    "<center> <h3>Conclusions</h3> </center>\n",
    "\n",
    "The Monte Carlo results suggest that the player has a high probability of winning in each case, indicating that this method is effective for in-game decision making. The stability and reliability of the calculated probabilities depend on the number of iterations used in the method.\n",
    "\n",
    "The choice of the algorithm must be based on an analysis of the complexity of the game and the available resources, seeking a balance between the precision of the result and computational efficiency.\n",
    "\n"
   ]
  },
  {
   "cell_type": "markdown",
   "metadata": {},
   "source": [
    "---\n",
    "\n",
    "<center> <h3>Trabajos Futuros</h3> </center>\n",
    "\n",
    "Implement machine learning algorithms focusing effort on deep learning.\n"
   ]
  },
  {
   "cell_type": "markdown",
   "metadata": {},
   "source": [
    "---\n",
    "\n",
    "\n",
    "<center> <h3>Referencias</h3> </center>\n",
    "\n",
    "\n",
    "[1] S. J. Russell and P. Norvig, Artificial Intelligence: A Modern Approach. Upper Saddle River: Prentice-Hall, 2010. \n",
    "\n",
    "[2] P. Norvig, “Aimacode,” GitHub, https://github.com/aimacode (accessed Mar. 20 2024). \n",
    "\n",
    "[3] Python Software Foundation, \"collections — Container datatypes,\" in Python 3.12.2 Documentation. [online]: https://docs.python.org/3/library/collections.html#collections.deque. (accessed Mar. 30, 2024). \n",
    "\n"
   ]
  }
 ],
 "metadata": {
  "kernelspec": {
   "display_name": "scikit_hep",
   "language": "python",
   "name": "python3"
  },
  "language_info": {
   "codemirror_mode": {
    "name": "ipython",
    "version": 3
   },
   "file_extension": ".py",
   "mimetype": "text/x-python",
   "name": "python",
   "nbconvert_exporter": "python",
   "pygments_lexer": "ipython3",
   "version": "3.12.3"
  }
 },
 "nbformat": 4,
 "nbformat_minor": 2
}
